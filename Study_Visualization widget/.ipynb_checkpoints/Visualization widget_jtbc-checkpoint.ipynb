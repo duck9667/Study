{
 "cells": [
  {
   "cell_type": "markdown",
   "metadata": {},
   "source": [
    "# Data load"
   ]
  },
  {
   "cell_type": "code",
   "execution_count": 703,
   "metadata": {},
   "outputs": [
    {
     "data": {
      "text/html": [
       "<div>\n",
       "<style scoped>\n",
       "    .dataframe tbody tr th:only-of-type {\n",
       "        vertical-align: middle;\n",
       "    }\n",
       "\n",
       "    .dataframe tbody tr th {\n",
       "        vertical-align: top;\n",
       "    }\n",
       "\n",
       "    .dataframe thead th {\n",
       "        text-align: right;\n",
       "    }\n",
       "</style>\n",
       "<table border=\"1\" class=\"dataframe\">\n",
       "  <thead>\n",
       "    <tr style=\"text-align: right;\">\n",
       "      <th></th>\n",
       "      <th>title</th>\n",
       "      <th>time_play</th>\n",
       "      <th>channel</th>\n",
       "      <th>num_sub</th>\n",
       "      <th>num_view</th>\n",
       "      <th>time_pub</th>\n",
       "      <th>time_crawl</th>\n",
       "    </tr>\n",
       "  </thead>\n",
       "  <tbody>\n",
       "    <tr>\n",
       "      <th>0</th>\n",
       "      <td>제주서 이태원 방문 코로나19 확진자 발생 / JTBC News</td>\n",
       "      <td>0:36</td>\n",
       "      <td>JTBC News</td>\n",
       "      <td>구독자 132만명</td>\n",
       "      <td>조회수 2.2천회</td>\n",
       "      <td>5시간 전</td>\n",
       "      <td>2020/05/10 16:52:08</td>\n",
       "    </tr>\n",
       "    <tr>\n",
       "      <th>1</th>\n",
       "      <td>이태원 클럽 방문자 7222명 전수조사 / JTBC News</td>\n",
       "      <td>0:40</td>\n",
       "      <td>JTBC News</td>\n",
       "      <td>구독자 132만명</td>\n",
       "      <td>조회수 2.8천회</td>\n",
       "      <td>5시간 전</td>\n",
       "      <td>2020/05/10 16:52:08</td>\n",
       "    </tr>\n",
       "  </tbody>\n",
       "</table>\n",
       "</div>"
      ],
      "text/plain": [
       "                                 title time_play    channel    num_sub  \\\n",
       "0  제주서 이태원 방문 코로나19 확진자 발생 / JTBC News      0:36  JTBC News  구독자 132만명   \n",
       "1    이태원 클럽 방문자 7222명 전수조사 / JTBC News      0:40  JTBC News  구독자 132만명   \n",
       "\n",
       "    num_view time_pub           time_crawl  \n",
       "0  조회수 2.2천회    5시간 전  2020/05/10 16:52:08  \n",
       "1  조회수 2.8천회    5시간 전  2020/05/10 16:52:08  "
      ]
     },
     "execution_count": 703,
     "metadata": {},
     "output_type": "execute_result"
    }
   ],
   "source": [
    "# https://towardsdatascience.com/interactive-controls-for-jupyter-notebooks-f5c94829aee6\n",
    "import pandas as pd\n",
    "\n",
    "jtbc = pd.read_csv(\"C:/Users/kjh96/Github/crawling_JTBC.csv\", encoding=\"CP949\", header=None)\n",
    "jtbc.columns = [\"title\",\"time_play\",\"channel\",\"num_sub\",\"num_view\",\"time_pub\",\"time_crawl\"]\n",
    "jtbc.head(2)"
   ]
  },
  {
   "cell_type": "markdown",
   "metadata": {},
   "source": [
    "# Data Preprocessing"
   ]
  },
  {
   "cell_type": "code",
   "execution_count": 704,
   "metadata": {
    "scrolled": true
   },
   "outputs": [
    {
     "data": {
      "text/html": [
       "<div>\n",
       "<style scoped>\n",
       "    .dataframe tbody tr th:only-of-type {\n",
       "        vertical-align: middle;\n",
       "    }\n",
       "\n",
       "    .dataframe tbody tr th {\n",
       "        vertical-align: top;\n",
       "    }\n",
       "\n",
       "    .dataframe thead th {\n",
       "        text-align: right;\n",
       "    }\n",
       "</style>\n",
       "<table border=\"1\" class=\"dataframe\">\n",
       "  <thead>\n",
       "    <tr style=\"text-align: right;\">\n",
       "      <th></th>\n",
       "      <th>title</th>\n",
       "      <th>time_play</th>\n",
       "      <th>channel</th>\n",
       "      <th>num_sub</th>\n",
       "      <th>num_view</th>\n",
       "      <th>time_pub</th>\n",
       "      <th>time_crawl</th>\n",
       "    </tr>\n",
       "  </thead>\n",
       "  <tbody>\n",
       "    <tr>\n",
       "      <th>0</th>\n",
       "      <td>제주서 이태원 방문 코로나19 확진자 발생 / JTBC News</td>\n",
       "      <td>0:36</td>\n",
       "      <td>JTBC News</td>\n",
       "      <td>구독자 132만명</td>\n",
       "      <td>조회수 2.2천회</td>\n",
       "      <td>5</td>\n",
       "      <td>2020/05/10 16:52:08</td>\n",
       "    </tr>\n",
       "    <tr>\n",
       "      <th>1</th>\n",
       "      <td>이태원 클럽 방문자 7222명 전수조사 / JTBC News</td>\n",
       "      <td>0:40</td>\n",
       "      <td>JTBC News</td>\n",
       "      <td>구독자 132만명</td>\n",
       "      <td>조회수 2.8천회</td>\n",
       "      <td>5</td>\n",
       "      <td>2020/05/10 16:52:08</td>\n",
       "    </tr>\n",
       "  </tbody>\n",
       "</table>\n",
       "</div>"
      ],
      "text/plain": [
       "                                 title time_play    channel    num_sub  \\\n",
       "0  제주서 이태원 방문 코로나19 확진자 발생 / JTBC News      0:36  JTBC News  구독자 132만명   \n",
       "1    이태원 클럽 방문자 7222명 전수조사 / JTBC News      0:40  JTBC News  구독자 132만명   \n",
       "\n",
       "    num_view time_pub           time_crawl  \n",
       "0  조회수 2.2천회        5  2020/05/10 16:52:08  \n",
       "1  조회수 2.8천회        5  2020/05/10 16:52:08  "
      ]
     },
     "execution_count": 704,
     "metadata": {},
     "output_type": "execute_result"
    }
   ],
   "source": [
    "# 업로드 시간 전처리\n",
    "jtbc[\"time_pub\"] = jtbc[\"time_pub\"].str.split(\"(\\D+)\")\n",
    "\n",
    "for i in range(len(jtbc)) : \n",
    "    if jtbc[\"time_pub\"][i][1] == \"일 전\" :\n",
    "        jtbc[\"time_pub\"][i] = int(jtbc[\"time_pub\"][i][0]) * 24\n",
    "    \n",
    "    else :\n",
    "        jtbc[\"time_pub\"][i] = int(jtbc[\"time_pub\"][i][0])\n",
    "        \n",
    "jtbc.head(2)"
   ]
  },
  {
   "cell_type": "code",
   "execution_count": 705,
   "metadata": {},
   "outputs": [
    {
     "data": {
      "text/html": [
       "<div>\n",
       "<style scoped>\n",
       "    .dataframe tbody tr th:only-of-type {\n",
       "        vertical-align: middle;\n",
       "    }\n",
       "\n",
       "    .dataframe tbody tr th {\n",
       "        vertical-align: top;\n",
       "    }\n",
       "\n",
       "    .dataframe thead th {\n",
       "        text-align: right;\n",
       "    }\n",
       "</style>\n",
       "<table border=\"1\" class=\"dataframe\">\n",
       "  <thead>\n",
       "    <tr style=\"text-align: right;\">\n",
       "      <th></th>\n",
       "      <th>title</th>\n",
       "      <th>time_play</th>\n",
       "      <th>channel</th>\n",
       "      <th>num_sub</th>\n",
       "      <th>num_view</th>\n",
       "      <th>time_pub</th>\n",
       "      <th>time_crawl</th>\n",
       "    </tr>\n",
       "  </thead>\n",
       "  <tbody>\n",
       "    <tr>\n",
       "      <th>0</th>\n",
       "      <td>제주서 이태원 방문 코로나19 확진자 발생 / JTBC News</td>\n",
       "      <td>0:36</td>\n",
       "      <td>JTBC News</td>\n",
       "      <td>구독자 132만명</td>\n",
       "      <td>조회수 2.2천회</td>\n",
       "      <td>2020-05-10 11:52:08</td>\n",
       "      <td>2020-05-10 16:52:08</td>\n",
       "    </tr>\n",
       "    <tr>\n",
       "      <th>1</th>\n",
       "      <td>이태원 클럽 방문자 7222명 전수조사 / JTBC News</td>\n",
       "      <td>0:40</td>\n",
       "      <td>JTBC News</td>\n",
       "      <td>구독자 132만명</td>\n",
       "      <td>조회수 2.8천회</td>\n",
       "      <td>2020-05-10 11:52:08</td>\n",
       "      <td>2020-05-10 16:52:08</td>\n",
       "    </tr>\n",
       "  </tbody>\n",
       "</table>\n",
       "</div>"
      ],
      "text/plain": [
       "                                 title time_play    channel    num_sub  \\\n",
       "0  제주서 이태원 방문 코로나19 확진자 발생 / JTBC News      0:36  JTBC News  구독자 132만명   \n",
       "1    이태원 클럽 방문자 7222명 전수조사 / JTBC News      0:40  JTBC News  구독자 132만명   \n",
       "\n",
       "    num_view            time_pub          time_crawl  \n",
       "0  조회수 2.2천회 2020-05-10 11:52:08 2020-05-10 16:52:08  \n",
       "1  조회수 2.8천회 2020-05-10 11:52:08 2020-05-10 16:52:08  "
      ]
     },
     "execution_count": 705,
     "metadata": {},
     "output_type": "execute_result"
    }
   ],
   "source": [
    "# 크롤링 시점에서 업로드 시간(hour) 빼기\n",
    "from datetime import datetime, timedelta\n",
    "jtbc[\"time_crawl\"] = pd.to_datetime(jtbc[\"time_crawl\"])\n",
    "\n",
    "for i in range(len(jtbc)) :\n",
    "    jtbc[\"time_pub\"][i] = jtbc[\"time_crawl\"][i] - timedelta(hours=jtbc[\"time_pub\"][i])\n",
    "\n",
    "\n",
    "jtbc[\"time_pub\"] = pd.to_datetime(jtbc[\"time_pub\"])\n",
    "jtbc.head(2)"
   ]
  },
  {
   "cell_type": "code",
   "execution_count": 706,
   "metadata": {},
   "outputs": [
    {
     "data": {
      "text/html": [
       "<div>\n",
       "<style scoped>\n",
       "    .dataframe tbody tr th:only-of-type {\n",
       "        vertical-align: middle;\n",
       "    }\n",
       "\n",
       "    .dataframe tbody tr th {\n",
       "        vertical-align: top;\n",
       "    }\n",
       "\n",
       "    .dataframe thead th {\n",
       "        text-align: right;\n",
       "    }\n",
       "</style>\n",
       "<table border=\"1\" class=\"dataframe\">\n",
       "  <thead>\n",
       "    <tr style=\"text-align: right;\">\n",
       "      <th></th>\n",
       "      <th>title</th>\n",
       "      <th>time_play</th>\n",
       "      <th>channel</th>\n",
       "      <th>num_sub</th>\n",
       "      <th>num_view</th>\n",
       "      <th>time_pub</th>\n",
       "      <th>time_crawl</th>\n",
       "      <th>num_view2</th>\n",
       "    </tr>\n",
       "  </thead>\n",
       "  <tbody>\n",
       "    <tr>\n",
       "      <th>0</th>\n",
       "      <td>제주서 이태원 방문 코로나19 확진자 발생 / JTBC News</td>\n",
       "      <td>0:36</td>\n",
       "      <td>JTBC News</td>\n",
       "      <td>구독자 132만명</td>\n",
       "      <td>2200.0</td>\n",
       "      <td>2020-05-10 11:52:08</td>\n",
       "      <td>2020-05-10 16:52:08</td>\n",
       "      <td>2.2</td>\n",
       "    </tr>\n",
       "    <tr>\n",
       "      <th>1</th>\n",
       "      <td>이태원 클럽 방문자 7222명 전수조사 / JTBC News</td>\n",
       "      <td>0:40</td>\n",
       "      <td>JTBC News</td>\n",
       "      <td>구독자 132만명</td>\n",
       "      <td>2800.0</td>\n",
       "      <td>2020-05-10 11:52:08</td>\n",
       "      <td>2020-05-10 16:52:08</td>\n",
       "      <td>2.8</td>\n",
       "    </tr>\n",
       "  </tbody>\n",
       "</table>\n",
       "</div>"
      ],
      "text/plain": [
       "                                 title time_play    channel    num_sub  \\\n",
       "0  제주서 이태원 방문 코로나19 확진자 발생 / JTBC News      0:36  JTBC News  구독자 132만명   \n",
       "1    이태원 클럽 방문자 7222명 전수조사 / JTBC News      0:40  JTBC News  구독자 132만명   \n",
       "\n",
       "   num_view            time_pub          time_crawl  num_view2  \n",
       "0    2200.0 2020-05-10 11:52:08 2020-05-10 16:52:08        2.2  \n",
       "1    2800.0 2020-05-10 11:52:08 2020-05-10 16:52:08        2.8  "
      ]
     },
     "execution_count": 706,
     "metadata": {},
     "output_type": "execute_result"
    }
   ],
   "source": [
    "# 조회수 전처리\n",
    "jtbc[\"num_view2\"] = jtbc[\"num_view\"].str.extract('(\\d+\\.?\\d*)')\n",
    "jtbc[\"num_view2\"] = pd.to_numeric(jtbc[\"num_view2\"])\n",
    "\n",
    "for i in range(len(jtbc)) :                                     \n",
    "    if jtbc[\"num_view\"][i].split()[1].endswith(\"천회\") :\n",
    "        jtbc[\"num_view\"][i] = jtbc[\"num_view2\"][i] * 1000\n",
    "        \n",
    "    elif jtbc[\"num_view\"][i].split()[1].endswith(\"만회\") :\n",
    "        jtbc[\"num_view\"][i] = jtbc[\"num_view2\"][i] * 10000\n",
    "    \n",
    "    else :\n",
    "        jtbc[\"num_view\"][i] = jtbc[\"num_view2\"][i]\n",
    "        \n",
    "jtbc[\"num_view\"] = pd.to_numeric(jtbc[\"num_view\"])\n",
    "jtbc.head(2)"
   ]
  },
  {
   "cell_type": "code",
   "execution_count": 707,
   "metadata": {},
   "outputs": [
    {
     "data": {
      "text/html": [
       "<div>\n",
       "<style scoped>\n",
       "    .dataframe tbody tr th:only-of-type {\n",
       "        vertical-align: middle;\n",
       "    }\n",
       "\n",
       "    .dataframe tbody tr th {\n",
       "        vertical-align: top;\n",
       "    }\n",
       "\n",
       "    .dataframe thead th {\n",
       "        text-align: right;\n",
       "    }\n",
       "</style>\n",
       "<table border=\"1\" class=\"dataframe\">\n",
       "  <thead>\n",
       "    <tr style=\"text-align: right;\">\n",
       "      <th></th>\n",
       "      <th>title</th>\n",
       "      <th>time_play</th>\n",
       "      <th>channel</th>\n",
       "      <th>num_sub</th>\n",
       "      <th>num_view</th>\n",
       "      <th>time_pub</th>\n",
       "      <th>time_crawl</th>\n",
       "      <th>num_view2</th>\n",
       "      <th>time_play_fin</th>\n",
       "    </tr>\n",
       "  </thead>\n",
       "  <tbody>\n",
       "    <tr>\n",
       "      <th>0</th>\n",
       "      <td>제주서 이태원 방문 코로나19 확진자 발생 / JTBC News</td>\n",
       "      <td>0:36</td>\n",
       "      <td>JTBC News</td>\n",
       "      <td>구독자 132만명</td>\n",
       "      <td>2200.0</td>\n",
       "      <td>2020-05-10 11:52:08</td>\n",
       "      <td>2020-05-10 16:52:08</td>\n",
       "      <td>2.2</td>\n",
       "      <td>36</td>\n",
       "    </tr>\n",
       "    <tr>\n",
       "      <th>1</th>\n",
       "      <td>이태원 클럽 방문자 7222명 전수조사 / JTBC News</td>\n",
       "      <td>0:40</td>\n",
       "      <td>JTBC News</td>\n",
       "      <td>구독자 132만명</td>\n",
       "      <td>2800.0</td>\n",
       "      <td>2020-05-10 11:52:08</td>\n",
       "      <td>2020-05-10 16:52:08</td>\n",
       "      <td>2.8</td>\n",
       "      <td>40</td>\n",
       "    </tr>\n",
       "  </tbody>\n",
       "</table>\n",
       "</div>"
      ],
      "text/plain": [
       "                                 title time_play    channel    num_sub  \\\n",
       "0  제주서 이태원 방문 코로나19 확진자 발생 / JTBC News      0:36  JTBC News  구독자 132만명   \n",
       "1    이태원 클럽 방문자 7222명 전수조사 / JTBC News      0:40  JTBC News  구독자 132만명   \n",
       "\n",
       "   num_view            time_pub          time_crawl  num_view2  time_play_fin  \n",
       "0    2200.0 2020-05-10 11:52:08 2020-05-10 16:52:08        2.2             36  \n",
       "1    2800.0 2020-05-10 11:52:08 2020-05-10 16:52:08        2.8             40  "
      ]
     },
     "execution_count": 707,
     "metadata": {},
     "output_type": "execute_result"
    }
   ],
   "source": [
    "# 영상 길이 전처리\n",
    "second = []\n",
    "df['time_play2'] = df['time_play'].str.split(\":\")\n",
    "\n",
    "for i in range(len(df['time_play2'])) :\n",
    "    time = []\n",
    "    if len(df['time_play2'][i]) == 2 :\n",
    "        time = int(df['time_play2'][i][0]) * 60 + int(df['time_play2'][i][1])\n",
    "        second.append(time)\n",
    "    \n",
    "    elif len(df['time_play2'][i]) == 3 :\n",
    "        time = int(df['time_play2'][i][0]) * 3600 + int(df['time_play2'][i][1]) * 60 + int(df['time_play2'][i][2])\n",
    "        second.append(time)\n",
    "        \n",
    "jtbc[\"time_play_fin\"] = pd.DataFrame(second)\n",
    "jtbc.head(2)\n",
    "\n",
    "# df['time taken'].str.split(':').apply(lambda x: int(x[0]) * 60 + int(x[1]))\n",
    "# https://cnpnote.tistory.com/entry/PYTHON-%ED%8C%8C%EC%9D%B4%EC%8D%AC-%ED%8C%AC%EB%8D%94%EB%A5%BC-%EC%82%AC%EC%9A%A9%ED%95%98%EC%97%AC-hh-mm-ss%EB%A5%BC-%EB%AA%87-%EB%B6%84%EC%9C%BC%EB%A1%9C-%EB%B3%80%ED%99%98%ED%95%98%EC%8B%AD%EC%8B%9C%EC%98%A4"
   ]
  },
  {
   "cell_type": "markdown",
   "metadata": {},
   "source": [
    "# Visualization widget"
   ]
  },
  {
   "cell_type": "code",
   "execution_count": 708,
   "metadata": {},
   "outputs": [
    {
     "data": {
      "text/html": [
       "        <script type=\"text/javascript\">\n",
       "        window.PlotlyConfig = {MathJaxConfig: 'local'};\n",
       "        if (window.MathJax) {MathJax.Hub.Config({SVG: {font: \"STIX-Web\"}});}\n",
       "        if (typeof require !== 'undefined') {\n",
       "        require.undef(\"plotly\");\n",
       "        requirejs.config({\n",
       "            paths: {\n",
       "                'plotly': ['https://cdn.plot.ly/plotly-latest.min']\n",
       "            }\n",
       "        });\n",
       "        require(['plotly'], function(Plotly) {\n",
       "            window._Plotly = Plotly;\n",
       "        });\n",
       "        }\n",
       "        </script>\n",
       "        "
      ]
     },
     "metadata": {},
     "output_type": "display_data"
    },
    {
     "data": {
      "text/html": [
       "        <script type=\"text/javascript\">\n",
       "        window.PlotlyConfig = {MathJaxConfig: 'local'};\n",
       "        if (window.MathJax) {MathJax.Hub.Config({SVG: {font: \"STIX-Web\"}});}\n",
       "        if (typeof require !== 'undefined') {\n",
       "        require.undef(\"plotly\");\n",
       "        requirejs.config({\n",
       "            paths: {\n",
       "                'plotly': ['https://cdn.plot.ly/plotly-latest.min']\n",
       "            }\n",
       "        });\n",
       "        require(['plotly'], function(Plotly) {\n",
       "            window._Plotly = Plotly;\n",
       "        });\n",
       "        }\n",
       "        </script>\n",
       "        "
      ]
     },
     "metadata": {},
     "output_type": "display_data"
    }
   ],
   "source": [
    "import ipywidgets as widgets\n",
    "from ipywidgets import interact, interact_manual\n",
    "\n",
    "import numpy as np\n",
    "import pandas as pd\n",
    "import scipy\n",
    "\n",
    "# import plotly.plotly as py\n",
    "import plotly.graph_objs as go\n",
    "from plotly.offline import iplot, init_notebook_mode\n",
    "init_notebook_mode(connected=True)\n",
    "\n",
    "import cufflinks as cf\n",
    "cf.go_offline(connected=True)\n",
    "cf.set_config_file(colorscale='plotly', world_readable=True)\n",
    "\n",
    "# Extra options\n",
    "pd.options.display.max_rows = 30\n",
    "pd.options.display.max_columns = 25\n",
    "\n",
    "# Show all code cells outputs\n",
    "from IPython.core.interactiveshell import InteractiveShell\n",
    "InteractiveShell.ast_node_interactivity = 'all'\n",
    "\n",
    "# Online features (plotly.plotly) moved to chart-studio package\n",
    "import chart_studio.plotly as py\n",
    "\n",
    "import os\n",
    "from IPython.display import Image, display, HTML"
   ]
  },
  {
   "cell_type": "code",
   "execution_count": 709,
   "metadata": {},
   "outputs": [
    {
     "data": {
      "text/html": [
       "<div>\n",
       "<style scoped>\n",
       "    .dataframe tbody tr th:only-of-type {\n",
       "        vertical-align: middle;\n",
       "    }\n",
       "\n",
       "    .dataframe tbody tr th {\n",
       "        vertical-align: top;\n",
       "    }\n",
       "\n",
       "    .dataframe thead th {\n",
       "        text-align: right;\n",
       "    }\n",
       "</style>\n",
       "<table border=\"1\" class=\"dataframe\">\n",
       "  <thead>\n",
       "    <tr style=\"text-align: right;\">\n",
       "      <th></th>\n",
       "      <th>title</th>\n",
       "      <th>time_play</th>\n",
       "      <th>time_play_fin</th>\n",
       "      <th>channel</th>\n",
       "      <th>num_sub</th>\n",
       "      <th>num_view</th>\n",
       "      <th>time_pub</th>\n",
       "      <th>time_crawl</th>\n",
       "    </tr>\n",
       "  </thead>\n",
       "  <tbody>\n",
       "    <tr>\n",
       "      <th>0</th>\n",
       "      <td>제주서 이태원 방문 코로나19 확진자 발생 / JTBC News</td>\n",
       "      <td>0:36</td>\n",
       "      <td>36</td>\n",
       "      <td>JTBC News</td>\n",
       "      <td>구독자 132만명</td>\n",
       "      <td>2200.0</td>\n",
       "      <td>2020-05-10 11:52:08</td>\n",
       "      <td>2020-05-10 16:52:08</td>\n",
       "    </tr>\n",
       "    <tr>\n",
       "      <th>1</th>\n",
       "      <td>이태원 클럽 방문자 7222명 전수조사 / JTBC News</td>\n",
       "      <td>0:40</td>\n",
       "      <td>40</td>\n",
       "      <td>JTBC News</td>\n",
       "      <td>구독자 132만명</td>\n",
       "      <td>2800.0</td>\n",
       "      <td>2020-05-10 11:52:08</td>\n",
       "      <td>2020-05-10 16:52:08</td>\n",
       "    </tr>\n",
       "    <tr>\n",
       "      <th>2</th>\n",
       "      <td>[취임 3주년 질의응답] \"남북·북미간 신뢰·대화의지 확인하고 있어\" / JTBC ...</td>\n",
       "      <td>5:56</td>\n",
       "      <td>356</td>\n",
       "      <td>JTBC News</td>\n",
       "      <td>구독자 132만명</td>\n",
       "      <td>517.0</td>\n",
       "      <td>2020-05-10 11:52:08</td>\n",
       "      <td>2020-05-10 16:52:08</td>\n",
       "    </tr>\n",
       "  </tbody>\n",
       "</table>\n",
       "</div>"
      ],
      "text/plain": [
       "                                               title time_play  time_play_fin  \\\n",
       "0                제주서 이태원 방문 코로나19 확진자 발생 / JTBC News      0:36             36   \n",
       "1                  이태원 클럽 방문자 7222명 전수조사 / JTBC News      0:40             40   \n",
       "2  [취임 3주년 질의응답] \"남북·북미간 신뢰·대화의지 확인하고 있어\" / JTBC ...      5:56            356   \n",
       "\n",
       "     channel    num_sub  num_view            time_pub          time_crawl  \n",
       "0  JTBC News  구독자 132만명    2200.0 2020-05-10 11:52:08 2020-05-10 16:52:08  \n",
       "1  JTBC News  구독자 132만명    2800.0 2020-05-10 11:52:08 2020-05-10 16:52:08  \n",
       "2  JTBC News  구독자 132만명     517.0 2020-05-10 11:52:08 2020-05-10 16:52:08  "
      ]
     },
     "execution_count": 709,
     "metadata": {},
     "output_type": "execute_result"
    }
   ],
   "source": [
    "df = jtbc[['title', 'time_play', 'time_play_fin', 'channel', 'num_sub', 'num_view', 'time_pub', 'time_crawl']]\n",
    "df.head(3)"
   ]
  },
  {
   "cell_type": "code",
   "execution_count": 710,
   "metadata": {},
   "outputs": [
    {
     "data": {
      "application/vnd.jupyter.widget-view+json": {
       "model_id": "7c3f6325bdf34229b055ff5eece05c36",
       "version_major": 2,
       "version_minor": 0
      },
      "text/plain": [
       "interactive(children=(Text(value='num_view', description='column'), IntSlider(value=7142, description='x', max…"
      ]
     },
     "metadata": {},
     "output_type": "display_data"
    }
   ],
   "source": [
    "@interact\n",
    "def show_articles_more_than(column='num_view', x=7142):\n",
    "    display(HTML(f'<h2>Showing articles with more than {x} {column}<h2>'))\n",
    "    display(df.loc[df[column] > x, ['title', 'time_play', 'num_view', 'time_pub']])"
   ]
  },
  {
   "cell_type": "code",
   "execution_count": 711,
   "metadata": {},
   "outputs": [
    {
     "data": {
      "application/vnd.jupyter.widget-view+json": {
       "model_id": "4278eb3d2d6643669e81a4ea793a5b9e",
       "version_major": 2,
       "version_minor": 0
      },
      "text/plain": [
       "interactive(children=(Dropdown(description='column1', options=('time_play_fin', 'num_view'), value='time_play_…"
      ]
     },
     "metadata": {},
     "output_type": "display_data"
    }
   ],
   "source": [
    "# Correlation\n",
    "@interact\n",
    "def correlations(column1=list(df.select_dtypes('number').columns), \n",
    "                 column2=list(df.select_dtypes('number').columns)):\n",
    "    print(f\"Correlation: {df[column1].corr(df[column2])}\")"
   ]
  },
  {
   "cell_type": "code",
   "execution_count": 712,
   "metadata": {},
   "outputs": [
    {
     "data": {
      "application/vnd.jupyter.widget-view+json": {
       "model_id": "b7f8db8014824c9cba1e8629e1705b26",
       "version_major": 2,
       "version_minor": 0
      },
      "text/plain": [
       "interactive(children=(Dropdown(description='x', options=('time_play_fin', 'num_view'), value='time_play_fin'),…"
      ]
     },
     "metadata": {},
     "output_type": "display_data"
    }
   ],
   "source": [
    "### Graph\n",
    "import cufflinks as cf\n",
    "\n",
    "@interact\n",
    "def scatter_plot(x=list(df.select_dtypes('number').columns), \n",
    "                 y=list(df.select_dtypes('number').columns)[1:],\n",
    "                 theme=list(cf.themes.THEMES.keys()), \n",
    "                 colorscale=list(cf.colors._scales_names.keys())):\n",
    "    \n",
    "    df.iplot(kind='scatter', x=x, y=y, mode='markers', \n",
    "             xTitle=x.title(), yTitle=y.title(), \n",
    "             text='title',\n",
    "             title=f'{y.title()} vs {x.title()}',\n",
    "            theme=theme, colorscale=colorscale)"
   ]
  },
  {
   "cell_type": "code",
   "execution_count": 715,
   "metadata": {},
   "outputs": [
    {
     "data": {
      "application/vnd.jupyter.widget-view+json": {
       "model_id": "7ce649cf8c1d4a888645218feac470d3",
       "version_major": 2,
       "version_minor": 0
      },
      "text/plain": [
       "interactive(children=(Dropdown(description='x', options=('time_play_fin', 'num_view'), value='time_play_fin'),…"
      ]
     },
     "metadata": {},
     "output_type": "display_data"
    }
   ],
   "source": [
    "df['binned_time_play_fin'] = pd.cut(df['time_play_fin'], bins=range(0, 9000, 100))\n",
    "df['binned_time_play_fin'] = df['binned_time_play_fin'].astype(str)\n",
    "\n",
    "df['binned_num_view'] = pd.cut(df['num_view'], bins=range(0, 100000, 1000))\n",
    "df['binned_num_view'] = df['binned_num_view'].astype(str)\n",
    "\n",
    "from ipywidgets import interact_manual\n",
    "@interact_manual\n",
    "def scatter_plot(x=list(df.select_dtypes('number').columns), \n",
    "                 y=list(df.select_dtypes('number').columns)[1:],\n",
    "                 categories=['binned_time_play_fin', 'binned_num_view'], #, 'publication', 'type'\n",
    "                 theme=list(cf.themes.THEMES.keys()), \n",
    "                 colorscale=list(cf.colors._scales_names.keys())):\n",
    "    \n",
    "    df.iplot(kind='scatter', x=x, y=y, mode='markers', \n",
    "             categories=categories, \n",
    "             xTitle=x.title(), yTitle=y.title(), \n",
    "             text='title',\n",
    "             title=f'{y.title()} vs {x.title()}',\n",
    "             theme=theme, colorscale=colorscale)"
   ]
  },
  {
   "cell_type": "code",
   "execution_count": 717,
   "metadata": {},
   "outputs": [
    {
     "data": {
      "application/vnd.jupyter.widget-view+json": {
       "model_id": "0cf41bd20c1a4c71bcb11f9cb8404a3e",
       "version_major": 2,
       "version_minor": 0
      },
      "text/plain": [
       "interactive(children=(DatePicker(value=Timestamp('2018-01-01 00:00:00'), description='start_date'), DatePicker…"
      ]
     },
     "metadata": {},
     "output_type": "display_data"
    }
   ],
   "source": [
    "df.set_index('time_pub', inplace=True)\n",
    "\n",
    "def print_articles_published(start_date, end_date):\n",
    "    start_date = pd.Timestamp(start_date)\n",
    "    end_date = pd.Timestamp(end_date)\n",
    "    stat_df = df.loc[(df.index >= start_date) & (df.index <= end_date)].copy()\n",
    "    total_words = stat_df['num_view'].sum()\n",
    "    total_read_time = stat_df['time_play_fin'].sum()\n",
    "    num_articles = len(stat_df)\n",
    "    print(f'You published {num_articles} articles between {start_date.date()} and {end_date.date()}.')\n",
    "    print(f'These articles totalled {total_words:,} words and {total_read_time/60:.2f} hours to read.')\n",
    "    \n",
    "_ = interact(print_articles_published,\n",
    "             start_date=widgets.DatePicker(value=pd.to_datetime('2018-01-01')),\n",
    "             end_date=widgets.DatePicker(value=pd.to_datetime('2020-12-12')))"
   ]
  },
  {
   "cell_type": "code",
   "execution_count": 720,
   "metadata": {},
   "outputs": [
    {
     "data": {
      "application/vnd.jupyter.widget-view+json": {
       "model_id": "cc07226075234a228ced51c78c140063",
       "version_major": 2,
       "version_minor": 0
      },
      "text/plain": [
       "interactive(children=(Dropdown(description='column', options=('time_play_fin', 'num_view'), value='time_play_f…"
      ]
     },
     "metadata": {},
     "output_type": "display_data"
    }
   ],
   "source": [
    "def plot_up_to(column, date):\n",
    "    date = pd.Timestamp(date)\n",
    "    plot_df = df.loc[df.index <= date].copy()\n",
    "    plot_df[column].cumsum().iplot(mode='markers+lines', \n",
    "                                   xTitle='time',\n",
    "                                   yTitle=column, \n",
    "                                  title=f'Cumulative {column.title()} Until {date.date()}')\n",
    "    \n",
    "_ = interact(plot_up_to, column=widgets.Dropdown(options=list(df.select_dtypes('number').columns)), \n",
    "             date = widgets.DatePicker(value=pd.to_datetime('2020-05-13')))"
   ]
  },
  {
   "cell_type": "code",
   "execution_count": 722,
   "metadata": {},
   "outputs": [
    {
     "data": {
      "text/html": [
       "<div>\n",
       "<style scoped>\n",
       "    .dataframe tbody tr th:only-of-type {\n",
       "        vertical-align: middle;\n",
       "    }\n",
       "\n",
       "    .dataframe tbody tr th {\n",
       "        vertical-align: top;\n",
       "    }\n",
       "\n",
       "    .dataframe thead th {\n",
       "        text-align: right;\n",
       "    }\n",
       "</style>\n",
       "<table border=\"1\" class=\"dataframe\">\n",
       "  <thead>\n",
       "    <tr style=\"text-align: right;\">\n",
       "      <th></th>\n",
       "      <th>title</th>\n",
       "      <th>time_play</th>\n",
       "      <th>time_play_fin</th>\n",
       "      <th>channel</th>\n",
       "      <th>num_sub</th>\n",
       "      <th>num_view</th>\n",
       "      <th>time_crawl</th>\n",
       "      <th>binned_time_play_fin</th>\n",
       "      <th>binned_num_view</th>\n",
       "    </tr>\n",
       "    <tr>\n",
       "      <th>time_pub</th>\n",
       "      <th></th>\n",
       "      <th></th>\n",
       "      <th></th>\n",
       "      <th></th>\n",
       "      <th></th>\n",
       "      <th></th>\n",
       "      <th></th>\n",
       "      <th></th>\n",
       "      <th></th>\n",
       "    </tr>\n",
       "  </thead>\n",
       "  <tbody>\n",
       "    <tr>\n",
       "      <th>2020-05-10 11:52:08</th>\n",
       "      <td>제주서 이태원 방문 코로나19 확진자 발생 / JTBC News</td>\n",
       "      <td>0:36</td>\n",
       "      <td>36</td>\n",
       "      <td>JTBC News</td>\n",
       "      <td>구독자 132만명</td>\n",
       "      <td>2200.0</td>\n",
       "      <td>2020-05-10 16:52:08</td>\n",
       "      <td>(0, 100]</td>\n",
       "      <td>(2000.0, 3000.0]</td>\n",
       "    </tr>\n",
       "    <tr>\n",
       "      <th>2020-05-10 11:52:08</th>\n",
       "      <td>이태원 클럽 방문자 7222명 전수조사 / JTBC News</td>\n",
       "      <td>0:40</td>\n",
       "      <td>40</td>\n",
       "      <td>JTBC News</td>\n",
       "      <td>구독자 132만명</td>\n",
       "      <td>2800.0</td>\n",
       "      <td>2020-05-10 16:52:08</td>\n",
       "      <td>(0, 100]</td>\n",
       "      <td>(2000.0, 3000.0]</td>\n",
       "    </tr>\n",
       "    <tr>\n",
       "      <th>2020-05-10 11:52:08</th>\n",
       "      <td>[취임 3주년 질의응답] \"남북·북미간 신뢰·대화의지 확인하고 있어\" / JTBC ...</td>\n",
       "      <td>5:56</td>\n",
       "      <td>356</td>\n",
       "      <td>JTBC News</td>\n",
       "      <td>구독자 132만명</td>\n",
       "      <td>517.0</td>\n",
       "      <td>2020-05-10 16:52:08</td>\n",
       "      <td>(300, 400]</td>\n",
       "      <td>(0.0, 1000.0]</td>\n",
       "    </tr>\n",
       "    <tr>\n",
       "      <th>2020-05-10 11:52:08</th>\n",
       "      <td>[문 대통령 취임 3주년 연설] 5월 10일 (일) 뉴스특보 풀영상</td>\n",
       "      <td>47:53</td>\n",
       "      <td>2873</td>\n",
       "      <td>JTBC News</td>\n",
       "      <td>구독자 132만명</td>\n",
       "      <td>29000.0</td>\n",
       "      <td>2020-05-10 16:52:08</td>\n",
       "      <td>(2800, 2900]</td>\n",
       "      <td>(28000.0, 29000.0]</td>\n",
       "    </tr>\n",
       "    <tr>\n",
       "      <th>2020-05-10 11:52:08</th>\n",
       "      <td>[취임 3주년 질의응답] 기자 \"디지털화, 일자리 빼앗는단 우려도 있는데…\"</td>\n",
       "      <td>3:35</td>\n",
       "      <td>215</td>\n",
       "      <td>JTBC News</td>\n",
       "      <td>구독자 132만명</td>\n",
       "      <td>1000.0</td>\n",
       "      <td>2020-05-10 16:52:08</td>\n",
       "      <td>(200, 300]</td>\n",
       "      <td>(0.0, 1000.0]</td>\n",
       "    </tr>\n",
       "    <tr>\n",
       "      <th>...</th>\n",
       "      <td>...</td>\n",
       "      <td>...</td>\n",
       "      <td>...</td>\n",
       "      <td>...</td>\n",
       "      <td>...</td>\n",
       "      <td>...</td>\n",
       "      <td>...</td>\n",
       "      <td>...</td>\n",
       "      <td>...</td>\n",
       "    </tr>\n",
       "    <tr>\n",
       "      <th>2020-05-08 16:52:08</th>\n",
       "      <td>[라이브썰전 H/L] 통합당 새 원내대표 주호영…김종배 \"마구잡이 투쟁 없을 것\" ...</td>\n",
       "      <td>5:07</td>\n",
       "      <td>307</td>\n",
       "      <td>JTBC News</td>\n",
       "      <td>구독자 132만명</td>\n",
       "      <td>818.0</td>\n",
       "      <td>2020-05-10 16:52:08</td>\n",
       "      <td>(300, 400]</td>\n",
       "      <td>(0.0, 1000.0]</td>\n",
       "    </tr>\n",
       "    <tr>\n",
       "      <th>2020-05-08 16:52:08</th>\n",
       "      <td>[인터뷰] 황운하 \"공수처 취지는 검찰개혁…그래서 윤석열이 1호 수사대상 거론\" /...</td>\n",
       "      <td>14:47</td>\n",
       "      <td>887</td>\n",
       "      <td>JTBC News</td>\n",
       "      <td>구독자 132만명</td>\n",
       "      <td>100000.0</td>\n",
       "      <td>2020-05-10 16:52:08</td>\n",
       "      <td>(800, 900]</td>\n",
       "      <td>nan</td>\n",
       "    </tr>\n",
       "    <tr>\n",
       "      <th>2020-05-08 16:52:08</th>\n",
       "      <td>법원, 정경심 '구속 연장' 불가 결정…11일 0시 석방  / JTBC 뉴스ON</td>\n",
       "      <td>1:47</td>\n",
       "      <td>107</td>\n",
       "      <td>JTBC News</td>\n",
       "      <td>구독자 132만명</td>\n",
       "      <td>3400.0</td>\n",
       "      <td>2020-05-10 16:52:08</td>\n",
       "      <td>(100, 200]</td>\n",
       "      <td>(3000.0, 4000.0]</td>\n",
       "    </tr>\n",
       "    <tr>\n",
       "      <th>2020-05-08 16:52:08</th>\n",
       "      <td>첫 재판 나온 조국 \"검찰 왜곡 하나하나 반박…지치지 않고 싸울 것\"  / JTBC...</td>\n",
       "      <td>1:50</td>\n",
       "      <td>110</td>\n",
       "      <td>JTBC News</td>\n",
       "      <td>구독자 132만명</td>\n",
       "      <td>930.0</td>\n",
       "      <td>2020-05-10 16:52:08</td>\n",
       "      <td>(100, 200]</td>\n",
       "      <td>(0.0, 1000.0]</td>\n",
       "    </tr>\n",
       "    <tr>\n",
       "      <th>2020-05-08 16:52:08</th>\n",
       "      <td>한국의 '익명 선행' 원하는 일본? \"선의로 받자\" 언론 기고 논란  / JTBC ...</td>\n",
       "      <td>1:22</td>\n",
       "      <td>82</td>\n",
       "      <td>JTBC News</td>\n",
       "      <td>구독자 132만명</td>\n",
       "      <td>10000.0</td>\n",
       "      <td>2020-05-10 16:52:08</td>\n",
       "      <td>(0, 100]</td>\n",
       "      <td>(9000.0, 10000.0]</td>\n",
       "    </tr>\n",
       "  </tbody>\n",
       "</table>\n",
       "<p>88 rows × 9 columns</p>\n",
       "</div>"
      ],
      "text/plain": [
       "                                                                 title  \\\n",
       "time_pub                                                                 \n",
       "2020-05-10 11:52:08                제주서 이태원 방문 코로나19 확진자 발생 / JTBC News   \n",
       "2020-05-10 11:52:08                  이태원 클럽 방문자 7222명 전수조사 / JTBC News   \n",
       "2020-05-10 11:52:08  [취임 3주년 질의응답] \"남북·북미간 신뢰·대화의지 확인하고 있어\" / JTBC ...   \n",
       "2020-05-10 11:52:08              [문 대통령 취임 3주년 연설] 5월 10일 (일) 뉴스특보 풀영상   \n",
       "2020-05-10 11:52:08         [취임 3주년 질의응답] 기자 \"디지털화, 일자리 빼앗는단 우려도 있는데…\"   \n",
       "...                                                                ...   \n",
       "2020-05-08 16:52:08  [라이브썰전 H/L] 통합당 새 원내대표 주호영…김종배 \"마구잡이 투쟁 없을 것\" ...   \n",
       "2020-05-08 16:52:08  [인터뷰] 황운하 \"공수처 취지는 검찰개혁…그래서 윤석열이 1호 수사대상 거론\" /...   \n",
       "2020-05-08 16:52:08       법원, 정경심 '구속 연장' 불가 결정…11일 0시 석방  / JTBC 뉴스ON   \n",
       "2020-05-08 16:52:08  첫 재판 나온 조국 \"검찰 왜곡 하나하나 반박…지치지 않고 싸울 것\"  / JTBC...   \n",
       "2020-05-08 16:52:08  한국의 '익명 선행' 원하는 일본? \"선의로 받자\" 언론 기고 논란  / JTBC ...   \n",
       "\n",
       "                    time_play  time_play_fin    channel    num_sub  num_view  \\\n",
       "time_pub                                                                       \n",
       "2020-05-10 11:52:08      0:36             36  JTBC News  구독자 132만명    2200.0   \n",
       "2020-05-10 11:52:08      0:40             40  JTBC News  구독자 132만명    2800.0   \n",
       "2020-05-10 11:52:08      5:56            356  JTBC News  구독자 132만명     517.0   \n",
       "2020-05-10 11:52:08     47:53           2873  JTBC News  구독자 132만명   29000.0   \n",
       "2020-05-10 11:52:08      3:35            215  JTBC News  구독자 132만명    1000.0   \n",
       "...                       ...            ...        ...        ...       ...   \n",
       "2020-05-08 16:52:08      5:07            307  JTBC News  구독자 132만명     818.0   \n",
       "2020-05-08 16:52:08     14:47            887  JTBC News  구독자 132만명  100000.0   \n",
       "2020-05-08 16:52:08      1:47            107  JTBC News  구독자 132만명    3400.0   \n",
       "2020-05-08 16:52:08      1:50            110  JTBC News  구독자 132만명     930.0   \n",
       "2020-05-08 16:52:08      1:22             82  JTBC News  구독자 132만명   10000.0   \n",
       "\n",
       "                             time_crawl binned_time_play_fin  \\\n",
       "time_pub                                                       \n",
       "2020-05-10 11:52:08 2020-05-10 16:52:08             (0, 100]   \n",
       "2020-05-10 11:52:08 2020-05-10 16:52:08             (0, 100]   \n",
       "2020-05-10 11:52:08 2020-05-10 16:52:08           (300, 400]   \n",
       "2020-05-10 11:52:08 2020-05-10 16:52:08         (2800, 2900]   \n",
       "2020-05-10 11:52:08 2020-05-10 16:52:08           (200, 300]   \n",
       "...                                 ...                  ...   \n",
       "2020-05-08 16:52:08 2020-05-10 16:52:08           (300, 400]   \n",
       "2020-05-08 16:52:08 2020-05-10 16:52:08           (800, 900]   \n",
       "2020-05-08 16:52:08 2020-05-10 16:52:08           (100, 200]   \n",
       "2020-05-08 16:52:08 2020-05-10 16:52:08           (100, 200]   \n",
       "2020-05-08 16:52:08 2020-05-10 16:52:08             (0, 100]   \n",
       "\n",
       "                        binned_num_view  \n",
       "time_pub                                 \n",
       "2020-05-10 11:52:08    (2000.0, 3000.0]  \n",
       "2020-05-10 11:52:08    (2000.0, 3000.0]  \n",
       "2020-05-10 11:52:08       (0.0, 1000.0]  \n",
       "2020-05-10 11:52:08  (28000.0, 29000.0]  \n",
       "2020-05-10 11:52:08       (0.0, 1000.0]  \n",
       "...                                 ...  \n",
       "2020-05-08 16:52:08       (0.0, 1000.0]  \n",
       "2020-05-08 16:52:08                 nan  \n",
       "2020-05-08 16:52:08    (3000.0, 4000.0]  \n",
       "2020-05-08 16:52:08       (0.0, 1000.0]  \n",
       "2020-05-08 16:52:08   (9000.0, 10000.0]  \n",
       "\n",
       "[88 rows x 9 columns]"
      ]
     },
     "execution_count": 722,
     "metadata": {},
     "output_type": "execute_result"
    }
   ],
   "source": [
    "df"
   ]
  },
  {
   "cell_type": "code",
   "execution_count": 732,
   "metadata": {},
   "outputs": [],
   "source": [
    "cscales = ['Greys', 'YlGnBu', 'Greens', 'YlOrRd', 'Bluered', 'RdBu',\n",
    "            'Reds', 'Blues', 'Picnic', 'Rainbow', 'Portland', 'Jet',\n",
    "            'Hot', 'Blackbody', 'Earth', 'Electric', 'Viridis', 'Cividis']"
   ]
  },
  {
   "cell_type": "code",
   "execution_count": 733,
   "metadata": {},
   "outputs": [
    {
     "data": {
      "application/vnd.jupyter.widget-view+json": {
       "model_id": "2adf5cba9c73443f9c4d9cf0777d00a8",
       "version_major": 2,
       "version_minor": 0
      },
      "text/plain": [
       "interactive(children=(Dropdown(description='colorscale', options=('Greys', 'YlGnBu', 'Greens', 'YlOrRd', 'Blue…"
      ]
     },
     "metadata": {},
     "output_type": "display_data"
    }
   ],
   "source": [
    "import plotly.figure_factory as ff\n",
    "\n",
    "corrs = df.corr()\n",
    "\n",
    "@interact_manual\n",
    "def plot_corrs(colorscale=cscales):\n",
    "    figure = ff.create_annotated_heatmap(z = corrs.round(2).values, \n",
    "                                     x =list(corrs.columns), \n",
    "                                     y=list(corrs.index), \n",
    "                                     colorscale=colorscale,\n",
    "                                     annotation_text=corrs.round(2).values)\n",
    "    iplot(figure)"
   ]
  }
 ],
 "metadata": {
  "kernelspec": {
   "display_name": "Python 3",
   "language": "python",
   "name": "python3"
  },
  "language_info": {
   "codemirror_mode": {
    "name": "ipython",
    "version": 3
   },
   "file_extension": ".py",
   "mimetype": "text/x-python",
   "name": "python",
   "nbconvert_exporter": "python",
   "pygments_lexer": "ipython3",
   "version": "3.7.6"
  }
 },
 "nbformat": 4,
 "nbformat_minor": 4
}
