{
 "cells": [
  {
   "cell_type": "markdown",
   "metadata": {},
   "source": [
    "# Github\n",
    "깃허브는 버전 관리와 협업을 위한 코드 호스팅 플랫폼이다."
   ]
  },
  {
   "cell_type": "markdown",
   "metadata": {},
   "source": [
    "## 00. 사용\n",
    "---\n",
    "1.CLI(Command Line Interface)\n",
    "- 직접 코드를 입력하여 작업하는 것\n",
    "- ex) Git bash  \n",
    "\n",
    "2.GUI(Graphical User Onterface)\n",
    "- 마우스로 사용가능한 소프트웨어\n",
    "- ex) Source tree  \n",
    "  \n",
    "3.용어\n",
    "- 저장소(repository) : 작업공간을 Git이 제공하는 자료구조 안에 압축시켜 넣은 것, 원격과 로컬로 나뉜다.\n",
    "- 추적(stage) : 작업공간에서 변경이 발생한 파일을 다음 커밋에 포함되도록 예약하는 것\n"
   ]
  },
  {
   "cell_type": "markdown",
   "metadata": {},
   "source": [
    "## 01. Git 기초\n",
    "---\n",
    "\n",
    "#### Git 저장소 생성\n",
    "- ```git init```\n",
    "\n",
    "#### 내 정보들 입력\n",
    "- ```git config -g user.name “(내 이름)”``` \n",
    "- ```git config -g user.email “(내 메일주소)”```\n",
    "\n",
    "\n",
    "#### 폴더 내 변화들과 캡슐 상태 확인\n",
    "- ```git status```\n",
    "\n",
    "#### 폴더 내 변화 캡슐에 담기(스테이지)\n",
    "- ```git add -A (모든 변화)```\n",
    "- ```git add . (모든 변화)```\n",
    "- ```git add 파일명 (특정변화)```\n",
    "\n",
    "#### 변화를 담은 캡슐 묻기(현 상태를 저장)\n",
    "- ```git commit -m “(적어둘 내용)”```\n",
    "\n",
    "#### git 상태들 확인(일련번호 등)\n",
    "- ```git log```\n",
    "\n",
    "#### 특정 때로 돌아가기(복구불가능) \n",
    "- ```git reset (돌아갈 커밋의 일련번호 앞 6자리) --hard```\n",
    "\n",
    "#### 특정 상태로 돌아가기(변화를 상쇄)\n",
    "- ```git revert (상쇄할 커밋의 앞 6자리)```\n",
    "\n",
    "#### 특정 파일 업로드 방지\n",
    "- ```touch .gitignore`` : .gitignore 파일 생성\n",
    "- ```.git ignore```\n",
    "\n",
    "\n",
    "#### 파일 생성 및 삭제\n",
    "- ```touch 파일명``` : 생성\n",
    "- ```git clean -m``` : 삭제\n",
    "- ```git clean -f``` : 디렉토리에서 완전히 삭제"
   ]
  },
  {
   "cell_type": "markdown",
   "metadata": {},
   "source": [
    "## 02. 브랜치\n",
    "---\n",
    "\n",
    "#### 새 평행우주(브랜치) 만들기\n",
    "- ``git branch (새 브랜치명)```\n",
    "\n",
    "#### 만들어진 브랜치들 보기\n",
    "- ```git branch```\n",
    "\n",
    "#### 특정 브랜치로 이동\n",
    "- ```git checkout (브랜치명)```\n",
    "\n",
    "#### 다른 브랜치의 변경사항 가져오기\n",
    "- ```git merge (대상 브랜치명)```\n",
    "\n",
    "#### 다른 브랜치의 변경사항 가져오기(이력 깔끔히)\n",
    "- ```git rebase (대상 브랜치명)```\n",
    "\n",
    "#### 브랜치 삭제\n",
    "- ```git branch -D (삭제할 브랜치명)```"
   ]
  },
  {
   "cell_type": "markdown",
   "metadata": {},
   "source": [
    "## 03. VIM\n",
    "VI는 Visual editor라는 뜻에서 유래한 것으로 한 줄씩 편집하는 라인 에디터가 아니라 한 화면내에서 편집을 한다는 뜻을 가지고 있습니다. 라인 에디터에 비해 사용하기 쉽고 강력한 기능을 제공하고 있습니다. VIM는 Vi IMproved의 준말로 vi의 기본 기능에 충실하면서 VI에 없는 편리한 기능, 강력한 기능을 추가한 VI의 클론입니다.\n",
    "\n",
    "----\n",
    "\n",
    "#### 초기화면(command mode)에서 edit mode로 전환\n",
    "- `i`, `a`, `o`\n",
    "\n",
    "\n",
    "#### vi 에디터 빠져 나오는 코드\n",
    "- `w` : 저장\n",
    "- `q` : 편집기 종료\n",
    "- ```; + wq``` : 저장하고 끝내기\n",
    "\n",
    "#### #로 시작하는 줄으 주석 처리"
   ]
  },
  {
   "cell_type": "markdown",
   "metadata": {},
   "source": [
    "## 기타\n",
    "\n",
    "---\n",
    "\n",
    "**.gitignore에 내용 추가 후 즉시 반영 안될 때**\n",
    "- --cached 옵션을 사용하여 unstaged상태, index로 부터 패스를 삭제하고 시도해보자 \n",
    "\n",
    "`git rm -r --cached .`  \n",
    "` git add .`  \n",
    "` git commit -m \"fixed”`  "
   ]
  },
  {
   "cell_type": "markdown",
   "metadata": {},
   "source": [
    "### 출처\n",
    "---\n",
    "- 얄팍한 코딩 사전(https://www.youtube.com/watch?v=FXDjmsiv8fI)\n",
    "- 깃 가이드 북(https://git-scm.com/book/ko/v2)\n",
    "- https://zetawiki.com/\n",
    "- https://gist.github.com/timetobye/79b6c0bf3ecb9c6383a3f9c941510f9b"
   ]
  }
 ],
 "metadata": {
  "kernelspec": {
   "display_name": "Python 3",
   "language": "python",
   "name": "python3"
  },
  "language_info": {
   "codemirror_mode": {
    "name": "ipython",
    "version": 3
   },
   "file_extension": ".py",
   "mimetype": "text/x-python",
   "name": "python",
   "nbconvert_exporter": "python",
   "pygments_lexer": "ipython3",
   "version": "3.7.6"
  }
 },
 "nbformat": 4,
 "nbformat_minor": 2
}
