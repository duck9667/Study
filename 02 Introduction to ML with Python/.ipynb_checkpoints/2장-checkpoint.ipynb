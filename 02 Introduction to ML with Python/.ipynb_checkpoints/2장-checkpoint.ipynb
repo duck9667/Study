{
 "cells": [
  {
   "cell_type": "markdown",
   "metadata": {},
   "source": [
    "# 2장 지도학습\n",
    "## 2.1. 분류와 회귀  \n",
    "- 분류  \n",
    "이진 분류 : 두개의 클래스로 분류  \n",
    "다중 분류 : 셋 이상의 클래스로 분류\n",
    "\n",
    "- 회귀  \n",
    "연속적인 숫자를 예측하는 것을 말한다.\n",
    "\n",
    "## 2.2. 일반화, 과대적합, 과소적합  \n",
    "- 일반화 : 모델이 처음 보는 데이터에 대해 정확하게 예측할 수 있다면 이를 훈련세트에서 테스트 세트로 일반화되었다고 말함  \n",
    "- 과소적합 : 데이터의 다양성을 잡아내지 못하는 너무 간단한 모델을 만들게 되는 것  \n",
    "- 과대적합 : 데이터의 모든 정보를 활용하려다 너무 복잡한 모델을 만들게 되는 것  "
   ]
  },
  {
   "cell_type": "markdown",
   "metadata": {},
   "source": [
    "## 2.3. 지도학습 알고리즘  \n",
    "### 2.3.1 KNN 알고리즘  \n",
    "- 특징  \n",
    "가장 간단한 머신러닝 알고리즘   \n",
    "새로운 데이터를 예측할 때 가장 가까운 데이터로 예측하는 방법  \n",
    "이웃(범위)의 수를 설정해주어야 한다  \n",
    "거리는 유클리디안 거리방식을 사용한다  \n",
    "\n",
    "- 장단  \n",
    "훈련 세트의 수나 피쳐 수가 많을 경우 예측이 느려진다\n",
    "대부분의 값이 0일 경우 잘 작동하지 않는다  \n",
    "쉽지만 예측이 느리고 여러 피쳐를 처리하기에는 성능이 부족해 현업에서는 잘 쓰지 않는다"
   ]
  },
  {
   "cell_type": "code",
   "execution_count": 7,
   "metadata": {
    "collapsed": true
   },
   "outputs": [
    {
     "name": "stdout",
     "output_type": "stream",
     "text": [
      "Requirement already satisfied: numpy in c:\\anaconda3\\lib\\site-packages (1.18.1)\n",
      "Requirement already satisfied: scipy in c:\\anaconda3\\lib\\site-packages (1.4.1)\n",
      "Requirement already satisfied: matplotlib in c:\\anaconda3\\lib\\site-packages (3.1.3)\n",
      "Requirement already satisfied: ipython in c:\\anaconda3\\lib\\site-packages (7.12.0)\n",
      "Requirement already satisfied: scikit-learn in c:\\anaconda3\\lib\\site-packages (0.22.1)\n",
      "Requirement already satisfied: pandas in c:\\anaconda3\\lib\\site-packages (1.0.1)\n",
      "Requirement already satisfied: pillow in c:\\anaconda3\\lib\\site-packages (7.0.0)\n",
      "Requirement already satisfied: kiwisolver>=1.0.1 in c:\\anaconda3\\lib\\site-packages (from matplotlib) (1.1.0)\n",
      "Requirement already satisfied: python-dateutil>=2.1 in c:\\anaconda3\\lib\\site-packages (from matplotlib) (2.8.1)\n",
      "Requirement already satisfied: pyparsing!=2.0.4,!=2.1.2,!=2.1.6,>=2.0.1 in c:\\anaconda3\\lib\\site-packages (from matplotlib) (2.4.6)\n",
      "Requirement already satisfied: cycler>=0.10 in c:\\anaconda3\\lib\\site-packages (from matplotlib) (0.10.0)\n",
      "Requirement already satisfied: traitlets>=4.2 in c:\\anaconda3\\lib\\site-packages (from ipython) (4.3.3)\n",
      "Requirement already satisfied: decorator in c:\\anaconda3\\lib\\site-packages (from ipython) (4.4.1)\n",
      "Requirement already satisfied: pickleshare in c:\\anaconda3\\lib\\site-packages (from ipython) (0.7.5)\n",
      "Requirement already satisfied: colorama; sys_platform == \"win32\" in c:\\anaconda3\\lib\\site-packages (from ipython) (0.4.3)\n",
      "Requirement already satisfied: setuptools>=18.5 in c:\\anaconda3\\lib\\site-packages (from ipython) (45.2.0.post20200210)\n",
      "Requirement already satisfied: pygments in c:\\anaconda3\\lib\\site-packages (from ipython) (2.5.2)\n",
      "Requirement already satisfied: prompt-toolkit!=3.0.0,!=3.0.1,<3.1.0,>=2.0.0 in c:\\anaconda3\\lib\\site-packages (from ipython) (3.0.3)\n",
      "Requirement already satisfied: jedi>=0.10 in c:\\anaconda3\\lib\\site-packages (from ipython) (0.14.1)\n",
      "Requirement already satisfied: backcall in c:\\anaconda3\\lib\\site-packages (from ipython) (0.1.0)\n",
      "Requirement already satisfied: joblib>=0.11 in c:\\anaconda3\\lib\\site-packages (from scikit-learn) (0.14.1)\n",
      "Requirement already satisfied: pytz>=2017.2 in c:\\anaconda3\\lib\\site-packages (from pandas) (2019.3)\n",
      "Requirement already satisfied: six>=1.5 in c:\\anaconda3\\lib\\site-packages (from python-dateutil>=2.1->matplotlib) (1.14.0)\n",
      "Requirement already satisfied: ipython-genutils in c:\\anaconda3\\lib\\site-packages (from traitlets>=4.2->ipython) (0.2.0)\n",
      "Requirement already satisfied: wcwidth in c:\\anaconda3\\lib\\site-packages (from prompt-toolkit!=3.0.0,!=3.0.1,<3.1.0,>=2.0.0->ipython) (0.1.8)\n",
      "Requirement already satisfied: parso>=0.5.0 in c:\\anaconda3\\lib\\site-packages (from jedi>=0.10->ipython) (0.5.2)\n"
     ]
    }
   ],
   "source": [
    "!pip install numpy scipy matplotlib ipython scikit-learn pandas pillow"
   ]
  },
  {
   "cell_type": "code",
   "execution_count": 8,
   "metadata": {},
   "outputs": [],
   "source": [
    "import numpy as np\n",
    "import pandas as pd\n",
    "import matplotlib.pyplot as plt\n",
    "import mglearn\n",
    "%matplotlib inline"
   ]
  },
  {
   "cell_type": "code",
   "execution_count": 11,
   "metadata": {},
   "outputs": [
    {
     "name": "stderr",
     "output_type": "stream",
     "text": [
      "C:\\Anaconda3\\lib\\site-packages\\sklearn\\utils\\deprecation.py:87: FutureWarning: Function make_blobs is deprecated; Please import make_blobs directly from scikit-learn\n",
      "  warnings.warn(msg, category=FutureWarning)\n"
     ]
    },
    {
     "data": {
      "image/png": "[encoded data removed]",
      "text/plain": [
       "<Figure size 432x288 with 1 Axes>"
      ]
     },
     "metadata": {
      "needs_background": "light"
     },
     "output_type": "display_data"
    }
   ],
   "source": [
    "# 분류\n",
    "mglearn.plots.plot_knn_classification(n_neighbors=1)"
   ]
  },
  {
   "cell_type": "code",
   "execution_count": 15,
   "metadata": {},
   "outputs": [],
   "source": [
    "from sklearn.model_selection import train_test_split\n",
    "X, y = mglearn.datasets.make_forge()\n",
    "X_train, X_test, y_train, y_test = train_test_split(X,y, random_state=0)"
   ]
  },
  {
   "cell_type": "code",
   "execution_count": 17,
   "metadata": {},
   "outputs": [],
   "source": [
    "from sklearn.neighbors import KNeighborsClassifier\n",
    "clf = KNeighborsClassifier(n_neighbors=3)"
   ]
  },
  {
   "cell_type": "code",
   "execution_count": 20,
   "metadata": {},
   "outputs": [
    {
     "data": {
      "text/plain": [
       "KNeighborsClassifier(algorithm='auto', leaf_size=30, metric='minkowski',\n",
       "                     metric_params=None, n_jobs=None, n_neighbors=3, p=2,\n",
       "                     weights='uniform')"
      ]
     },
     "execution_count": 20,
     "metadata": {},
     "output_type": "execute_result"
    }
   ],
   "source": [
    "clf.fit(X_train, y_train)"
   ]
  },
  {
   "cell_type": "code",
   "execution_count": 21,
   "metadata": {},
   "outputs": [
    {
     "data": {
      "text/plain": [
       "array([1, 0, 1, 0, 1, 0, 0])"
      ]
     },
     "execution_count": 21,
     "metadata": {},
     "output_type": "execute_result"
    }
   ],
   "source": [
    "clf.predict(X_test)"
   ]
  },
  {
   "cell_type": "code",
   "execution_count": 22,
   "metadata": {},
   "outputs": [
    {
     "data": {
      "image/png": "[encoded data removed]",
      "text/plain": [
       "<Figure size 720x432 with 1 Axes>"
      ]
     },
     "metadata": {
      "needs_background": "light"
     },
     "output_type": "display_data"
    }
   ],
   "source": [
    "# 회귀\n",
    "mglearn.plots.plot_knn_regression(n_neighbors=3)"
   ]
  },
  {
   "cell_type": "code",
   "execution_count": 24,
   "metadata": {},
   "outputs": [],
   "source": [
    "from sklearn.neighbors import KNeighborsRegressor\n",
    "X, y = mglearn.datasets.make_wave(n_samples=40)"
   ]
  },
  {
   "cell_type": "code",
   "execution_count": 25,
   "metadata": {},
   "outputs": [],
   "source": [
    "X_train, X_test, y_train, y_test = train_test_split(X,y, random_state=0)"
   ]
  },
  {
   "cell_type": "code",
   "execution_count": 27,
   "metadata": {
    "scrolled": true
   },
   "outputs": [
    {
     "data": {
      "text/plain": [
       "array([-0.05396539,  0.35686046,  1.13671923, -1.89415682, -1.13881398,\n",
       "       -1.63113382,  0.35686046,  0.91241374, -0.44680446, -1.13881398])"
      ]
     },
     "execution_count": 27,
     "metadata": {},
     "output_type": "execute_result"
    }
   ],
   "source": [
    "reg = KNeighborsRegressor(n_neighbors=3)\n",
    "reg.fit(X_train,y_train)\n",
    "reg.predict(X_test)"
   ]
  },
  {
   "cell_type": "markdown",
   "metadata": {},
   "source": [
    "### 2.3.2 선형 모델  \n",
    "100여 년 전에 개발되었으며 현재까지 널리 쓰인다.  \n",
    "선형 모델은 입력 특성에 대한 선형 함수를 만들어 예측을 수행한다.  "
   ]
  },
  {
   "cell_type": "code",
   "execution_count": 28,
   "metadata": {},
   "outputs": [
    {
     "name": "stdout",
     "output_type": "stream",
     "text": [
      "w[0]: 0.393906  b: -0.031804\n"
     ]
    },
    {
     "data": {
      "image/png": "[encoded data removed]",
      "text/plain": [
       "<Figure size 576x576 with 1 Axes>"
      ]
     },
     "metadata": {
      "needs_background": "light"
     },
     "output_type": "display_data"
    }
   ],
   "source": [
    "# 선형 회귀 모델\n",
    "mglearn.plots.plot_linear_regression_wave()"
   ]
  },
  {
   "cell_type": "markdown",
   "metadata": {},
   "source": [
    "#### 1. 선형 회귀(최소제곱법)  \n",
    "- 특징  \n",
    "가장 간단하고 오래된 회위용 선형 알고리즘\n",
    "선형 회귀는 예측과 훈련 세트에 있는타깃 y 사이의 평균제곱오차 MSE를 최소화하는 파라미터 w,b를 찾는다.  \n",
    "평균제곱오차는 예측값과 타깃값의 차이를 제곱하여 더한 후 샘플의 개수로 나눈 것이다.  \n",
    "\n",
    "- 장단점  \n",
    "매개변수가 없는 것이 장점이지만 모델의 복잡도를 제어할 방법이 없는 것이 단점이다."
   ]
  },
  {
   "cell_type": "code",
   "execution_count": 29,
   "metadata": {},
   "outputs": [],
   "source": [
    "from sklearn.linear_model import LinearRegression\n",
    "X, y = mglearn.datasets.make_wave(n_samples=60)"
   ]
  },
  {
   "cell_type": "code",
   "execution_count": 30,
   "metadata": {},
   "outputs": [],
   "source": [
    "X_train, X_test, y_train, y_test = train_test_split(X,y, random_state=42)"
   ]
  },
  {
   "cell_type": "code",
   "execution_count": 31,
   "metadata": {},
   "outputs": [],
   "source": [
    "lr = LinearRegression().fit(X_train, y_train)"
   ]
  },
  {
   "cell_type": "markdown",
   "metadata": {},
   "source": [
    "- w, b  \n",
    "w(기울기 파라미터) : lr 객체의 coef_ 속성에 저장되어 있다. (가중치 또는 계수라고 부름)  \n",
    "b(편향 또는 절편 파라미터) : intercept_속성에 저장되어 있다."
   ]
  },
  {
   "cell_type": "code",
   "execution_count": 32,
   "metadata": {},
   "outputs": [
    {
     "data": {
      "text/plain": [
       "array([0.39390555])"
      ]
     },
     "execution_count": 32,
     "metadata": {},
     "output_type": "execute_result"
    }
   ],
   "source": [
    "lr.coef_"
   ]
  },
  {
   "cell_type": "code",
   "execution_count": 33,
   "metadata": {},
   "outputs": [
    {
     "data": {
      "text/plain": [
       "-0.031804343026759746"
      ]
     },
     "execution_count": 33,
     "metadata": {},
     "output_type": "execute_result"
    }
   ],
   "source": [
    "lr.intercept_"
   ]
  },
  {
   "cell_type": "code",
   "execution_count": 34,
   "metadata": {},
   "outputs": [
    {
     "data": {
      "text/plain": [
       "0.6700890315075756"
      ]
     },
     "execution_count": 34,
     "metadata": {},
     "output_type": "execute_result"
    }
   ],
   "source": [
    "lr.score(X_train, y_train)"
   ]
  },
  {
   "cell_type": "code",
   "execution_count": 35,
   "metadata": {},
   "outputs": [
    {
     "data": {
      "text/plain": [
       "0.65933685968637"
      ]
     },
     "execution_count": 35,
     "metadata": {},
     "output_type": "execute_result"
    }
   ],
   "source": [
    "lr.score(X_test, y_test)"
   ]
  },
  {
   "cell_type": "code",
   "execution_count": 36,
   "metadata": {},
   "outputs": [],
   "source": [
    "# 위 경우와는 달리 피쳐가 많을 경우 과소적합문제가 발생한다.\n",
    "X, y = mglearn.datasets.load_extended_boston()\n",
    "X_train, X_test, y_train, y_test = train_test_split(X,y, random_state=0)"
   ]
  },
  {
   "cell_type": "code",
   "execution_count": 37,
   "metadata": {},
   "outputs": [],
   "source": [
    "lr = LinearRegression().fit(X_train,y_train)"
   ]
  },
  {
   "cell_type": "code",
   "execution_count": 38,
   "metadata": {},
   "outputs": [
    {
     "data": {
      "text/plain": [
       "0.9520519609032729"
      ]
     },
     "execution_count": 38,
     "metadata": {},
     "output_type": "execute_result"
    }
   ],
   "source": [
    "lr.score(X_train, y_train)"
   ]
  },
  {
   "cell_type": "code",
   "execution_count": 39,
   "metadata": {},
   "outputs": [
    {
     "data": {
      "text/plain": [
       "0.607472195966585"
      ]
     },
     "execution_count": 39,
     "metadata": {},
     "output_type": "execute_result"
    }
   ],
   "source": [
    "lr.score(X_test, y_test)"
   ]
  },
  {
   "cell_type": "markdown",
   "metadata": {},
   "source": [
    "#### 2. 릿지 회귀   \n",
    "훈련 데이터와 테스트 데이터 사이의 성능차이는 모델이 과소적합되었다는 신호이다  \n",
    "따라서 복잡도를 제어할 수 있는 모델을 사용해야 한다.  \n",
    "기본 선형 회귀 대신 가장 널리 사용되는 것이 릿지회귀이다.  \n",
    "\n",
    "- 특징\n",
    "릿지 회귀에서 기울기 선택은 훈련 데이터를 잘 예측하기 위해서 뿐만 아니라 추가 제약 조전을 만족시키기 위한 목적  \n",
    "기울기의 절대값을 가능한 작게 만든다  \n",
    "선형회귀에 비해 과대적합이 적어진다.  \n",
    "모델의 복잡도는 낮아지고 훈련세트에서는 성능이 나빠지지만 더 일반화된 모델이 된다  "
   ]
  },
  {
   "cell_type": "code",
   "execution_count": 40,
   "metadata": {},
   "outputs": [
    {
     "data": {
      "text/plain": [
       "0.8857966585170941"
      ]
     },
     "execution_count": 40,
     "metadata": {},
     "output_type": "execute_result"
    }
   ],
   "source": [
    "from sklearn.linear_model import Ridge\n",
    "\n",
    "ridge = Ridge().fit(X_train, y_train)\n",
    "ridge.score(X_train, y_train)"
   ]
  },
  {
   "cell_type": "code",
   "execution_count": 41,
   "metadata": {},
   "outputs": [
    {
     "data": {
      "text/plain": [
       "0.7527683481744755"
      ]
     },
     "execution_count": 41,
     "metadata": {},
     "output_type": "execute_result"
    }
   ],
   "source": [
    "ridge.score(X_test, y_test)"
   ]
  },
  {
   "cell_type": "code",
   "execution_count": 42,
   "metadata": {},
   "outputs": [
    {
     "data": {
      "text/plain": [
       "0.7882787115369614"
      ]
     },
     "execution_count": 42,
     "metadata": {},
     "output_type": "execute_result"
    }
   ],
   "source": [
    "# alpha 값 조정\n",
    "ridge10 = Ridge(alpha=10).fit(X_train, y_train)\n",
    "ridge10.score(X_train, y_train)"
   ]
  },
  {
   "cell_type": "code",
   "execution_count": 43,
   "metadata": {},
   "outputs": [
    {
     "data": {
      "text/plain": [
       "0.6359411489177311"
      ]
     },
     "execution_count": 43,
     "metadata": {},
     "output_type": "execute_result"
    }
   ],
   "source": [
    "ridge10.score(X_test, y_test)"
   ]
  },
  {
   "cell_type": "markdown",
   "metadata": {},
   "source": [
    "#### 3. 라쏘 회귀  \n",
    "선형 회귀에 규제를 적용하는데 릿지의 대안으로 라쏘가 있다  \n",
    "라쏘도 기울기를 0에 가깝게 만드지만 방식이 다르다.  \n",
    "어떤 경우에는 실제 기울기가 0이 되어 제외되는 피쳐가 생긴다. 즉 피쳐 선택이 자동적으로 이뤄진다.  "
   ]
  },
  {
   "cell_type": "code",
   "execution_count": 44,
   "metadata": {},
   "outputs": [],
   "source": [
    "from sklearn.linear_model import Lasso\n",
    "lasso = Lasso().fit(X_train, y_train)"
   ]
  },
  {
   "cell_type": "code",
   "execution_count": 45,
   "metadata": {},
   "outputs": [
    {
     "data": {
      "text/plain": [
       "0.29323768991114607"
      ]
     },
     "execution_count": 45,
     "metadata": {},
     "output_type": "execute_result"
    }
   ],
   "source": [
    "lasso.score(X_train, y_train)"
   ]
  },
  {
   "cell_type": "code",
   "execution_count": 46,
   "metadata": {},
   "outputs": [
    {
     "data": {
      "text/plain": [
       "0.20937503255272294"
      ]
     },
     "execution_count": 46,
     "metadata": {},
     "output_type": "execute_result"
    }
   ],
   "source": [
    "lasso.score(X_test, y_test)"
   ]
  },
  {
   "cell_type": "code",
   "execution_count": 48,
   "metadata": {},
   "outputs": [
    {
     "data": {
      "text/plain": [
       "4"
      ]
     },
     "execution_count": 48,
     "metadata": {},
     "output_type": "execute_result"
    }
   ],
   "source": [
    "np.sum(lasso.coef_!=0)"
   ]
  },
  {
   "cell_type": "markdown",
   "metadata": {},
   "source": [
    "위에서 보듯 과소 적합이 발생하며 105개 특성 중 4개만 사용  \n",
    "릿지 회귀처럼 매개변수 alpha를 지원한다.  \n",
    "과소 적합을 줄이기 위해 alpha값을 줄여보았다. 이렇게 하려면 max_iter(반복 실행하는 최대횟수)의 기본값을 늘려야 한다.  "
   ]
  },
  {
   "cell_type": "code",
   "execution_count": 59,
   "metadata": {},
   "outputs": [],
   "source": [
    "lasso001 = Lasso(alpha=0.01, max_iter=100000).fit(X_train, y_train)"
   ]
  },
  {
   "cell_type": "code",
   "execution_count": 60,
   "metadata": {},
   "outputs": [
    {
     "data": {
      "text/plain": [
       "0.8962226511086497"
      ]
     },
     "execution_count": 60,
     "metadata": {},
     "output_type": "execute_result"
    }
   ],
   "source": [
    "lasso001.score(X_train, y_train)"
   ]
  },
  {
   "cell_type": "code",
   "execution_count": 58,
   "metadata": {},
   "outputs": [
    {
     "data": {
      "text/plain": [
       "0.7656571174549983"
      ]
     },
     "execution_count": 58,
     "metadata": {},
     "output_type": "execute_result"
    }
   ],
   "source": [
    "lasso001.score(X_test, y_test)"
   ]
  },
  {
   "cell_type": "code",
   "execution_count": 52,
   "metadata": {},
   "outputs": [
    {
     "data": {
      "text/plain": [
       "4"
      ]
     },
     "execution_count": 52,
     "metadata": {},
     "output_type": "execute_result"
    }
   ],
   "source": [
    "np.sum(lasso.coef_!=0)"
   ]
  },
  {
   "cell_type": "markdown",
   "metadata": {},
   "source": [
    "실제로 두 모델 중 릿지를 선호한다. 하지만 특성이 많고 그 중 일부분만 중요하다면 라쏘가 더 좋은 선택일 수 있다.  \n",
    "scikit-learn에서는 이 둘의 패널티를 결합한 ElasticNet을 제공한다. 이 조합은 최상의 성능을 내지만 L1,L2 규제를 위한 매개변수 두개를 조정해야한다."
   ]
  },
  {
   "cell_type": "markdown",
   "metadata": {},
   "source": [
    "#### 4. 분류용 선형모델  \n",
    "- 로지스틱 회귀  \n",
    "- 서포트 벡터 머신"
   ]
  },
  {
   "cell_type": "markdown",
   "metadata": {},
   "source": [
    "1. 로지스틱 회귀  \n",
    "전형적인 Binary classification algorithm으로 결과값이 이진변수이다.우리는 회귀분석에서 x값이 증가할 때 y값을 예측하는 것을 기본으로 생각한다. 하지만 y값이 이진변수일 경우에는 어떻게 해야할까?  결론부터 말하면 이진변수인 결과값을 음의 무한대에서 양의 무한대의 범위를 가진 일반 연속변수로 바꾸어 계산하며 된다. 그렇게되면 기존의 선형회귀문제와 동일하게 문제를 풀 수 있다. 이 때 중요한 개념이 Odds ration 또는 오즈비이다. \n",
    "\n"
   ]
  },
  {
   "cell_type": "code",
   "execution_count": 61,
   "metadata": {},
   "outputs": [],
   "source": [
    "from sklearn.linear_model import LogisticRegression\n",
    "from sklearn.svm import LinearSVC"
   ]
  },
  {
   "cell_type": "code",
   "execution_count": 62,
   "metadata": {},
   "outputs": [
    {
     "name": "stderr",
     "output_type": "stream",
     "text": [
      "C:\\Anaconda3\\lib\\site-packages\\sklearn\\utils\\deprecation.py:87: FutureWarning: Function make_blobs is deprecated; Please import make_blobs directly from scikit-learn\n",
      "  warnings.warn(msg, category=FutureWarning)\n"
     ]
    }
   ],
   "source": [
    "X, y = mglearn.datasets.make_forge()"
   ]
  },
  {
   "cell_type": "code",
   "execution_count": 64,
   "metadata": {},
   "outputs": [
    {
     "name": "stderr",
     "output_type": "stream",
     "text": [
      "C:\\Anaconda3\\lib\\site-packages\\sklearn\\svm\\_base.py:947: ConvergenceWarning: Liblinear failed to converge, increase the number of iterations.\n",
      "  \"the number of iterations.\", ConvergenceWarning)\n"
     ]
    },
    {
     "data": {
      "image/png": "[encoded data removed]",
      "text/plain": [
       "<Figure size 720x216 with 2 Axes>"
      ]
     },
     "metadata": {},
     "output_type": "display_data"
    }
   ],
   "source": [
    "fig, axes = plt.subplots(1,2, figsize=(10,3))\n",
    "for model, ax in zip([LinearSVC(), LogisticRegression()], axes) :\n",
    "    clf = model.fit(X,y)\n",
    "    mglearn.plots.plot_2d_separator(clf, X, fill=False, eps=0.5, ax=ax, alpha=.7)\n",
    "    mglearn.discrete_scatter(X[:,0], X[:,1], y, ax=ax)"
   ]
  },
  {
   "cell_type": "markdown",
   "metadata": {},
   "source": [
    "2. SVM  \n",
    "일반적으로 train 데이터에서 두 클래스의 결정 경계에 위치한 데이터 포인트들만이 분류를 하는데 영향을 끼친다. 따라서 이런 데이터들을 일컬어 서포트 벡터(Support Vector)라 하며 서포트 벡터 머신이라는 이름이 유래하였다. 서포트 벡터를 지나는 경계선끼리의 거리를 마진이라 부르며 SVM 모델은 train 데이터의 이 마진을 극대화하여 일반화 오류를 최소화하는 것이다. 이 분류기 역시 로지스틱 회귀와 같이 이진변수일 경우 사용이 가능하다.  *선형 모델은 태생적으로 이진 분류만 지원한다. 물론 로지스틱 회귀는 소프트맥스 함수를 사용하여 다중 분류를 지원한다. "
   ]
  },
  {
   "cell_type": "markdown",
   "metadata": {},
   "source": [
    "3. 나이브 베이즈 분류기  \n",
    "나이브 베이즈 분류기는 앞의 선형 모델과 매우 유사하다. scikit-learn에 구현된 분류기는 3가지이다.  \n",
    "\n",
    "GaussianNB : 연속적인 데이터에도 적용 가능  \n",
    "BernouliNB : 이진 데이터에 적용 가능  \n",
    "MultinomialNB : 카운트 데이터(특성이 어떤 것을 헤아린 정수. 베르누이와 함께 텍스트 데이터 분류시 많이 사용  "
   ]
  },
  {
   "cell_type": "markdown",
   "metadata": {},
   "source": [
    "https://duckkkk.com/entry/%EC%A7%80%EB%8F%84%ED%95%99%EC%8A%B5-%EB%82%98%EC%9D%B4%EB%B8%8C%EB%B2%A0%EC%9D%B4%EC%A6%88"
   ]
  },
  {
   "cell_type": "code",
   "execution_count": null,
   "metadata": {},
   "outputs": [],
   "source": [
    "32.3.3. 결정 트리"
   ]
  },
  {
   "cell_type": "code",
   "execution_count": null,
   "metadata": {},
   "outputs": [],
   "source": []
  },
  {
   "cell_type": "code",
   "execution_count": null,
   "metadata": {},
   "outputs": [],
   "source": []
  },
  {
   "cell_type": "code",
   "execution_count": null,
   "metadata": {},
   "outputs": [],
   "source": []
  },
  {
   "cell_type": "code",
   "execution_count": null,
   "metadata": {},
   "outputs": [],
   "source": []
  },
  {
   "cell_type": "code",
   "execution_count": null,
   "metadata": {},
   "outputs": [],
   "source": []
  }
 ],
 "metadata": {
  "kernelspec": {
   "display_name": "Python 3",
   "language": "python",
   "name": "python3"
  },
  "language_info": {
   "codemirror_mode": {
    "name": "ipython",
    "version": 3
   },
   "file_extension": ".py",
   "mimetype": "text/x-python",
   "name": "python",
   "nbconvert_exporter": "python",
   "pygments_lexer": "ipython3",
   "version": "3.7.6"
  }
 },
 "nbformat": 4,
 "nbformat_minor": 4
}
