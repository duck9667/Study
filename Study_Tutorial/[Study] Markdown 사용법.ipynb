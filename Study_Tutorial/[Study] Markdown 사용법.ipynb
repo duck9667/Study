{
 "cells": [
  {
   "cell_type": "markdown",
   "metadata": {},
   "source": [
    "Markdown 사용법\n",
    "===========\n",
    "-----------------------"
   ]
  },
  {
   "cell_type": "markdown",
   "metadata": {},
   "source": [
    "# 1. 마크다운이란?\n",
    "마크다운은 텍스트 기반의 마크업 언어로 html으로 변환이 가능하다. 문법이 매우 간단한 구조로 되어 있기 때문에 쉽게 익힐 수 있고, 웹에서도 빠르게 작성하여 직관적으로 인식할 수 있다.  \n",
    "\n",
    "-----\n",
    "\n",
    "## 1-1. 마크다운 장단점\n",
    "- 장점\n",
    "    1. 간결하다.\n",
    "    2. 별도의 도구없이 작성가능하다.\n",
    "    3. 다양한 형태로 변환이 가능하다.\n",
    "    3. 텍스트(Text)로 저장되기 때문에 용량이 적어 보관이 용이하다.\n",
    "    4. 텍스트파일이기 때문에 버전관리시스템을 이용하여 변경이력을 관리할 수 있다.\n",
    "    5. 지원하는 프로그램과 플랫폼이 다양하다.  \n",
    "    \n",
    "  \n",
    "- 단점\n",
    "    1. 표준이 없다.\n",
    "    2. 표준이 없기 때문에 도구에 따라서 변환방식이나 생성물이 다르다.\n",
    "    3. 모든 HTML 마크업을 대신하지 못한다.\n",
    "\n",
    "----"
   ]
  },
  {
   "cell_type": "markdown",
   "metadata": {},
   "source": [
    "# 2. 마크다운 사용법\n",
    "----"
   ]
  },
  {
   "cell_type": "markdown",
   "metadata": {},
   "source": [
    "### 2-1.제목\n",
    "- 문장 앞에 \"#\" 삽입, 최대 7개까지 가능\n",
    "- \"#\" 하나 일때 가장 큰 제목\n",
    "\n",
    "### 2-2. 줄바꿈\n",
    "- 문장 끝에 \"<br>\" 태그 삽입 또는 띄워쓰기 두번\n",
    "\n",
    "### 2-3. 목록\n",
    "- '-','n. 내용' 형식\n",
    "\n",
    "### 2-4. 수평선\n",
    "- '---' 3개 이상부터 회색으로 바뀜, 이 때 수평선으로 변환된다.\n",
    "\n",
    "### 2-5. 강조\n",
    "- 기울임체 : 강조할 내용 앞뒤로 * or _ 삽입\n",
    "- 볼드체 : 강조할 내용 앞뒤로 ** or __ 삽입 \n",
    "- 취소선 : 강조할 내용 앞뒤로 ~~ 삽입\n",
    "\n",
    "### 2-6. 코드블럭\n",
    "- ```This is a code```\n",
    "\n",
    "### 2-7. Link\n",
    "- [Google link test](http://www.google.co.kr)  ```[Google link test](http://www.google.co.kr)```  \n",
    "- [Naver link test](http://www.naver.com)  ```[Naver link test](http://www.naver.com)```\n",
    "\n",
    "### 2-8. 이미지 삽입\n",
    "- 링크와 이미지 삽입시 ```[]()``` 또는 ```![]()```  \n",
    "```![](https://www.wadiz.kr/images/uploads/114492/20151217154127979.jpg)```\n",
    "  \n",
    " \n",
    "- 이미지 사이즈 조정시  \n",
    "```<img src = \"url\" width = \" \" height = \" \">```   \n",
    "  \n",
    "<img src = \"https://www.wadiz.kr/images/uploads/114492/20151217154127979.jpg\" width=500/>\n",
    "  \n",
    "  \n",
    "### 2-9. 체크박스\n",
    "- [ ] 체크박스  ```[] 체크박스```\n",
    "- [x] 체크박스  ```[x] 체크박스```\n",
    "\n",
    "### 2-10. 주석\n",
    "- 특정 부분을 <!--일시적으로--> 표현하지 않는 기능\n",
    "```- 특정 부분을 <!--일시적으로--> 표현하지 않는 기능```\n",
    "\n",
    "### 2-11. 인용\n",
    "- > 인용내용  \n",
    "\n",
    " ```> 인용내용```"
   ]
  },
  {
   "cell_type": "markdown",
   "metadata": {},
   "source": [
    "------\n",
    "### 출처\n",
    "- http://www.hakawati.co.kr/405\n",
    "- 78 Tools for writing and previewing Markdown\n",
    "- John gruber 마크다운 번역\n",
    "- 깃허브 취향의 마크다운 번역\n",
    "- 허니몬의 마크다운 작성법\n"
   ]
  }
 ],
 "metadata": {
  "kernelspec": {
   "display_name": "Python 3",
   "language": "python",
   "name": "python3"
  },
  "language_info": {
   "codemirror_mode": {
    "name": "ipython",
    "version": 3
   },
   "file_extension": ".py",
   "mimetype": "text/x-python",
   "name": "python",
   "nbconvert_exporter": "python",
   "pygments_lexer": "ipython3",
   "version": "3.7.1"
  }
 },
 "nbformat": 4,
 "nbformat_minor": 2
}
