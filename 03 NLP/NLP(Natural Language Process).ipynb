{
 "cells": [
  {
   "cell_type": "markdown",
   "metadata": {},
   "source": [
    "# NLP(Natural Language Process) 자연어 처리\n",
    "- 자연어는 우리가 일상생활에서 쓰는 언어\n",
    "- 정형화 되어 있지 않아 다양항 전처리가 필요\n",
    "- 이를 통틀어 자연어 처리라고 부름"
   ]
  },
  {
   "cell_type": "markdown",
   "metadata": {},
   "source": [
    "**주요 용어**\n",
    "- 토큰화(tokenizing) : 나는 사람이다. -> 나(명사), 는(조사)..\n",
    "- 정제(normalization) : 알게써 -> 얼겠어\n",
    "- 어간추출(stemming) : 모두들 안녕하신가? -> 모두, 안녕,합니까?\n",
    "- 표제어 추출(lemmatization) : 사랑들 좀 합시다. -> 사랑, 하다\n",
    "\n",
    "**다양한 모델**\n",
    "- Word2Vec, cohesion score등등"
   ]
  },
  {
   "cell_type": "markdown",
   "metadata": {},
   "source": [
    "# Word2Vec\n",
    "텍스트를 워드로 변환한다는 뜻\n",
    "- 구글의 Mikolov가 2013년 발표한 모델\n",
    "- 인공 신경망을 이용한 기계학습 모델 단어들을 벡터화\n",
    "- CBow(continous bag of word)와 Skip-gram을 이용한 모델링\n",
    "- 기존 알고리즘에 비해 time complexity reduction V to InV"
   ]
  },
  {
   "cell_type": "markdown",
   "metadata": {},
   "source": [
    "# 출처\n",
    "---\n",
    "자연어 처리 - https://www.youtube.com/watch?v=1uNnGPSMV84&list=PLnp4MSIA_J3R8nlUjOOfO8HAJl1i8JlEK&index=4"
   ]
  }
 ],
 "metadata": {
  "kernelspec": {
   "display_name": "Python 3",
   "language": "python",
   "name": "python3"
  },
  "language_info": {
   "codemirror_mode": {
    "name": "ipython",
    "version": 3
   },
   "file_extension": ".py",
   "mimetype": "text/x-python",
   "name": "python",
   "nbconvert_exporter": "python",
   "pygments_lexer": "ipython3",
   "version": "3.8.5"
  }
 },
 "nbformat": 4,
 "nbformat_minor": 4
}
